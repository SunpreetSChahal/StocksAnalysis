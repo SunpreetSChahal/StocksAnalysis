{
 "cells": [
  {
   "cell_type": "markdown",
   "metadata": {},
   "source": [
    "# Stock Analysis\n",
    "### Sunpreet S. Chahal\n",
    " \n",
    "##### Within this notebook, I will be looking at a dataset that contains ; \n"
   ]
  },
  {
   "cell_type": "markdown",
   "metadata": {},
   "source": [
    "#### Set-up"
   ]
  },
  {
   "cell_type": "code",
   "execution_count": 2,
   "metadata": {},
   "outputs": [],
   "source": [
    "## Import libraries\n",
    "import pandas as pd\n",
    "import numpy as ny\n",
    "import matplotlib.pyplot as mpy\n",
    "import matplotlib as mtp\n",
    "import seaborn as sns\n",
    "import datetime as dt\n",
    "#sns.set()"
   ]
  },
  {
   "cell_type": "code",
   "execution_count": 11,
   "metadata": {},
   "outputs": [
    {
     "data": {
      "text/html": [
       "<div>\n",
       "<style scoped>\n",
       "    .dataframe tbody tr th:only-of-type {\n",
       "        vertical-align: middle;\n",
       "    }\n",
       "\n",
       "    .dataframe tbody tr th {\n",
       "        vertical-align: top;\n",
       "    }\n",
       "\n",
       "    .dataframe thead th {\n",
       "        text-align: right;\n",
       "    }\n",
       "</style>\n",
       "<table border=\"1\" class=\"dataframe\">\n",
       "  <thead>\n",
       "    <tr style=\"text-align: right;\">\n",
       "      <th></th>\n",
       "      <th>Unnamed: 0</th>\n",
       "      <th>name</th>\n",
       "      <th>open</th>\n",
       "      <th>close</th>\n",
       "      <th>high</th>\n",
       "      <th>low</th>\n",
       "      <th>volume</th>\n",
       "    </tr>\n",
       "  </thead>\n",
       "  <tbody>\n",
       "    <tr>\n",
       "      <th>0</th>\n",
       "      <td>1971-02-05</td>\n",
       "      <td>^IXIC</td>\n",
       "      <td>100.00</td>\n",
       "      <td>100.00</td>\n",
       "      <td>100.00</td>\n",
       "      <td>100.00</td>\n",
       "      <td>0.0</td>\n",
       "    </tr>\n",
       "    <tr>\n",
       "      <th>1</th>\n",
       "      <td>1971-02-08</td>\n",
       "      <td>^IXIC</td>\n",
       "      <td>100.84</td>\n",
       "      <td>100.84</td>\n",
       "      <td>100.84</td>\n",
       "      <td>100.84</td>\n",
       "      <td>0.0</td>\n",
       "    </tr>\n",
       "    <tr>\n",
       "      <th>2</th>\n",
       "      <td>1971-02-09</td>\n",
       "      <td>^IXIC</td>\n",
       "      <td>100.76</td>\n",
       "      <td>100.76</td>\n",
       "      <td>100.76</td>\n",
       "      <td>100.76</td>\n",
       "      <td>0.0</td>\n",
       "    </tr>\n",
       "    <tr>\n",
       "      <th>3</th>\n",
       "      <td>1971-02-10</td>\n",
       "      <td>^IXIC</td>\n",
       "      <td>100.69</td>\n",
       "      <td>100.69</td>\n",
       "      <td>100.69</td>\n",
       "      <td>100.69</td>\n",
       "      <td>0.0</td>\n",
       "    </tr>\n",
       "    <tr>\n",
       "      <th>4</th>\n",
       "      <td>1971-02-11</td>\n",
       "      <td>^IXIC</td>\n",
       "      <td>101.45</td>\n",
       "      <td>101.45</td>\n",
       "      <td>101.45</td>\n",
       "      <td>101.45</td>\n",
       "      <td>0.0</td>\n",
       "    </tr>\n",
       "  </tbody>\n",
       "</table>\n",
       "</div>"
      ],
      "text/plain": [
       "   Unnamed: 0   name    open   close    high     low  volume\n",
       "0  1971-02-05  ^IXIC  100.00  100.00  100.00  100.00     0.0\n",
       "1  1971-02-08  ^IXIC  100.84  100.84  100.84  100.84     0.0\n",
       "2  1971-02-09  ^IXIC  100.76  100.76  100.76  100.76     0.0\n",
       "3  1971-02-10  ^IXIC  100.69  100.69  100.69  100.69     0.0\n",
       "4  1971-02-11  ^IXIC  101.45  101.45  101.45  101.45     0.0"
      ]
     },
     "execution_count": 11,
     "metadata": {},
     "output_type": "execute_result"
    }
   ],
   "source": [
    "## Import Dataframe \n",
    "topstocks = pd.read_csv(\"D:\\\\PROJECTS\\\\Top 5 Stocks ✔\\\\big_five_stocks ORIGINAL.csv\",encoding='ISO-8859-1',low_memory=False)\n",
    "\n",
    "#Present Dataframe\n",
    "topstocks.head(5)"
   ]
  },
  {
   "cell_type": "code",
   "execution_count": 12,
   "metadata": {},
   "outputs": [
    {
     "data": {
      "text/plain": [
       "Index(['Unnamed: 0', 'name', 'open', 'close', 'high', 'low', 'volume'], dtype='object')"
      ]
     },
     "execution_count": 12,
     "metadata": {},
     "output_type": "execute_result"
    }
   ],
   "source": [
    "##Present all columns for future reference \n",
    "topstocks.columns"
   ]
  },
  {
   "cell_type": "code",
   "execution_count": 13,
   "metadata": {},
   "outputs": [
    {
     "data": {
      "text/plain": [
       "array(['^IXIC', 'AAPL', 'MSFT', 'AMZN', 'GOOGL', 'FB'], dtype=object)"
      ]
     },
     "execution_count": 13,
     "metadata": {},
     "output_type": "execute_result"
    }
   ],
   "source": [
    "##Let's view the top 5 stocks\n",
    "topstocks.name.unique()"
   ]
  },
  {
   "cell_type": "markdown",
   "metadata": {},
   "source": [
    "### Data Cleaning & Manipulation"
   ]
  },
  {
   "cell_type": "code",
   "execution_count": 14,
   "metadata": {},
   "outputs": [
    {
     "data": {
      "text/html": [
       "<div>\n",
       "<style scoped>\n",
       "    .dataframe tbody tr th:only-of-type {\n",
       "        vertical-align: middle;\n",
       "    }\n",
       "\n",
       "    .dataframe tbody tr th {\n",
       "        vertical-align: top;\n",
       "    }\n",
       "\n",
       "    .dataframe thead th {\n",
       "        text-align: right;\n",
       "    }\n",
       "</style>\n",
       "<table border=\"1\" class=\"dataframe\">\n",
       "  <thead>\n",
       "    <tr style=\"text-align: right;\">\n",
       "      <th></th>\n",
       "      <th>Date</th>\n",
       "      <th>name</th>\n",
       "      <th>open</th>\n",
       "      <th>close</th>\n",
       "      <th>high</th>\n",
       "      <th>low</th>\n",
       "      <th>volume</th>\n",
       "    </tr>\n",
       "  </thead>\n",
       "  <tbody>\n",
       "    <tr>\n",
       "      <th>0</th>\n",
       "      <td>1971-02-05</td>\n",
       "      <td>^IXIC</td>\n",
       "      <td>100.00</td>\n",
       "      <td>100.00</td>\n",
       "      <td>100.00</td>\n",
       "      <td>100.00</td>\n",
       "      <td>0.0</td>\n",
       "    </tr>\n",
       "    <tr>\n",
       "      <th>1</th>\n",
       "      <td>1971-02-08</td>\n",
       "      <td>^IXIC</td>\n",
       "      <td>100.84</td>\n",
       "      <td>100.84</td>\n",
       "      <td>100.84</td>\n",
       "      <td>100.84</td>\n",
       "      <td>0.0</td>\n",
       "    </tr>\n",
       "    <tr>\n",
       "      <th>2</th>\n",
       "      <td>1971-02-09</td>\n",
       "      <td>^IXIC</td>\n",
       "      <td>100.76</td>\n",
       "      <td>100.76</td>\n",
       "      <td>100.76</td>\n",
       "      <td>100.76</td>\n",
       "      <td>0.0</td>\n",
       "    </tr>\n",
       "    <tr>\n",
       "      <th>3</th>\n",
       "      <td>1971-02-10</td>\n",
       "      <td>^IXIC</td>\n",
       "      <td>100.69</td>\n",
       "      <td>100.69</td>\n",
       "      <td>100.69</td>\n",
       "      <td>100.69</td>\n",
       "      <td>0.0</td>\n",
       "    </tr>\n",
       "    <tr>\n",
       "      <th>4</th>\n",
       "      <td>1971-02-11</td>\n",
       "      <td>^IXIC</td>\n",
       "      <td>101.45</td>\n",
       "      <td>101.45</td>\n",
       "      <td>101.45</td>\n",
       "      <td>101.45</td>\n",
       "      <td>0.0</td>\n",
       "    </tr>\n",
       "    <tr>\n",
       "      <th>...</th>\n",
       "      <td>...</td>\n",
       "      <td>...</td>\n",
       "      <td>...</td>\n",
       "      <td>...</td>\n",
       "      <td>...</td>\n",
       "      <td>...</td>\n",
       "      <td>...</td>\n",
       "    </tr>\n",
       "    <tr>\n",
       "      <th>41655</th>\n",
       "      <td>2019-08-23</td>\n",
       "      <td>MSFT</td>\n",
       "      <td>137.19</td>\n",
       "      <td>133.39</td>\n",
       "      <td>138.35</td>\n",
       "      <td>132.80</td>\n",
       "      <td>38515386.0</td>\n",
       "    </tr>\n",
       "    <tr>\n",
       "      <th>41656</th>\n",
       "      <td>2019-08-23</td>\n",
       "      <td>AAPL</td>\n",
       "      <td>209.43</td>\n",
       "      <td>202.64</td>\n",
       "      <td>212.05</td>\n",
       "      <td>201.00</td>\n",
       "      <td>46882843.0</td>\n",
       "    </tr>\n",
       "    <tr>\n",
       "      <th>41657</th>\n",
       "      <td>2019-08-23</td>\n",
       "      <td>GOOGL</td>\n",
       "      <td>1185.17</td>\n",
       "      <td>1153.58</td>\n",
       "      <td>1195.67</td>\n",
       "      <td>1150.00</td>\n",
       "      <td>1813141.0</td>\n",
       "    </tr>\n",
       "    <tr>\n",
       "      <th>41658</th>\n",
       "      <td>2019-08-23</td>\n",
       "      <td>AMZN</td>\n",
       "      <td>1793.03</td>\n",
       "      <td>1749.62</td>\n",
       "      <td>1804.90</td>\n",
       "      <td>1745.23</td>\n",
       "      <td>5277898.0</td>\n",
       "    </tr>\n",
       "    <tr>\n",
       "      <th>41659</th>\n",
       "      <td>2019-08-23</td>\n",
       "      <td>FB</td>\n",
       "      <td>180.84</td>\n",
       "      <td>177.75</td>\n",
       "      <td>183.13</td>\n",
       "      <td>176.66</td>\n",
       "      <td>17331221.0</td>\n",
       "    </tr>\n",
       "  </tbody>\n",
       "</table>\n",
       "<p>41660 rows × 7 columns</p>\n",
       "</div>"
      ],
      "text/plain": [
       "             Date   name     open    close     high      low      volume\n",
       "0      1971-02-05  ^IXIC   100.00   100.00   100.00   100.00         0.0\n",
       "1      1971-02-08  ^IXIC   100.84   100.84   100.84   100.84         0.0\n",
       "2      1971-02-09  ^IXIC   100.76   100.76   100.76   100.76         0.0\n",
       "3      1971-02-10  ^IXIC   100.69   100.69   100.69   100.69         0.0\n",
       "4      1971-02-11  ^IXIC   101.45   101.45   101.45   101.45         0.0\n",
       "...           ...    ...      ...      ...      ...      ...         ...\n",
       "41655  2019-08-23   MSFT   137.19   133.39   138.35   132.80  38515386.0\n",
       "41656  2019-08-23   AAPL   209.43   202.64   212.05   201.00  46882843.0\n",
       "41657  2019-08-23  GOOGL  1185.17  1153.58  1195.67  1150.00   1813141.0\n",
       "41658  2019-08-23   AMZN  1793.03  1749.62  1804.90  1745.23   5277898.0\n",
       "41659  2019-08-23     FB   180.84   177.75   183.13   176.66  17331221.0\n",
       "\n",
       "[41660 rows x 7 columns]"
      ]
     },
     "execution_count": 14,
     "metadata": {},
     "output_type": "execute_result"
    }
   ],
   "source": [
    "##Change column name\n",
    "#Column#s one; 'Unnamed: 0', should be'Date'\n",
    "topstocks = topstocks = topstocks.rename(columns={'Unnamed: 0': 'Date'}, inplace=False)\n",
    "topstocks"
   ]
  },
  {
   "cell_type": "code",
   "execution_count": 15,
   "metadata": {},
   "outputs": [
    {
     "data": {
      "text/html": [
       "<div>\n",
       "<style scoped>\n",
       "    .dataframe tbody tr th:only-of-type {\n",
       "        vertical-align: middle;\n",
       "    }\n",
       "\n",
       "    .dataframe tbody tr th {\n",
       "        vertical-align: top;\n",
       "    }\n",
       "\n",
       "    .dataframe thead th {\n",
       "        text-align: right;\n",
       "    }\n",
       "</style>\n",
       "<table border=\"1\" class=\"dataframe\">\n",
       "  <thead>\n",
       "    <tr style=\"text-align: right;\">\n",
       "      <th></th>\n",
       "      <th>Date</th>\n",
       "      <th>name</th>\n",
       "      <th>open</th>\n",
       "      <th>close</th>\n",
       "      <th>high</th>\n",
       "      <th>low</th>\n",
       "      <th>volume</th>\n",
       "    </tr>\n",
       "  </thead>\n",
       "  <tbody>\n",
       "    <tr>\n",
       "      <th>0</th>\n",
       "      <td>1971-02-05</td>\n",
       "      <td>^IXIC</td>\n",
       "      <td>100.00</td>\n",
       "      <td>100.00</td>\n",
       "      <td>100.00</td>\n",
       "      <td>100.00</td>\n",
       "      <td>0.0</td>\n",
       "    </tr>\n",
       "    <tr>\n",
       "      <th>1</th>\n",
       "      <td>1971-02-08</td>\n",
       "      <td>^IXIC</td>\n",
       "      <td>100.84</td>\n",
       "      <td>100.84</td>\n",
       "      <td>100.84</td>\n",
       "      <td>100.84</td>\n",
       "      <td>0.0</td>\n",
       "    </tr>\n",
       "    <tr>\n",
       "      <th>2</th>\n",
       "      <td>1971-02-09</td>\n",
       "      <td>^IXIC</td>\n",
       "      <td>100.76</td>\n",
       "      <td>100.76</td>\n",
       "      <td>100.76</td>\n",
       "      <td>100.76</td>\n",
       "      <td>0.0</td>\n",
       "    </tr>\n",
       "    <tr>\n",
       "      <th>3</th>\n",
       "      <td>1971-02-10</td>\n",
       "      <td>^IXIC</td>\n",
       "      <td>100.69</td>\n",
       "      <td>100.69</td>\n",
       "      <td>100.69</td>\n",
       "      <td>100.69</td>\n",
       "      <td>0.0</td>\n",
       "    </tr>\n",
       "    <tr>\n",
       "      <th>4</th>\n",
       "      <td>1971-02-11</td>\n",
       "      <td>^IXIC</td>\n",
       "      <td>101.45</td>\n",
       "      <td>101.45</td>\n",
       "      <td>101.45</td>\n",
       "      <td>101.45</td>\n",
       "      <td>0.0</td>\n",
       "    </tr>\n",
       "  </tbody>\n",
       "</table>\n",
       "</div>"
      ],
      "text/plain": [
       "        Date   name    open   close    high     low  volume\n",
       "0 1971-02-05  ^IXIC  100.00  100.00  100.00  100.00     0.0\n",
       "1 1971-02-08  ^IXIC  100.84  100.84  100.84  100.84     0.0\n",
       "2 1971-02-09  ^IXIC  100.76  100.76  100.76  100.76     0.0\n",
       "3 1971-02-10  ^IXIC  100.69  100.69  100.69  100.69     0.0\n",
       "4 1971-02-11  ^IXIC  101.45  101.45  101.45  101.45     0.0"
      ]
     },
     "execution_count": 15,
     "metadata": {},
     "output_type": "execute_result"
    }
   ],
   "source": [
    "##Convert the 'Date' values into DateTime format\n",
    "##EXAMPLE - df['DateColumn'] = pd.to_datetime(df['DateColumn'])\n",
    "#This will allow me to break up the YYYYMMDD into - YYYY\n",
    "topstocks['Date'] = pd.to_datetime(topstocks['Date'])\n",
    "topstocks.head()"
   ]
  },
  {
   "cell_type": "code",
   "execution_count": 16,
   "metadata": {},
   "outputs": [
    {
     "data": {
      "text/html": [
       "<div>\n",
       "<style scoped>\n",
       "    .dataframe tbody tr th:only-of-type {\n",
       "        vertical-align: middle;\n",
       "    }\n",
       "\n",
       "    .dataframe tbody tr th {\n",
       "        vertical-align: top;\n",
       "    }\n",
       "\n",
       "    .dataframe thead th {\n",
       "        text-align: right;\n",
       "    }\n",
       "</style>\n",
       "<table border=\"1\" class=\"dataframe\">\n",
       "  <thead>\n",
       "    <tr style=\"text-align: right;\">\n",
       "      <th></th>\n",
       "      <th>Date</th>\n",
       "      <th>name</th>\n",
       "      <th>open</th>\n",
       "      <th>close</th>\n",
       "      <th>high</th>\n",
       "      <th>low</th>\n",
       "      <th>volume</th>\n",
       "      <th>Year</th>\n",
       "    </tr>\n",
       "  </thead>\n",
       "  <tbody>\n",
       "    <tr>\n",
       "      <th>0</th>\n",
       "      <td>1971-02-05</td>\n",
       "      <td>^IXIC</td>\n",
       "      <td>100.00</td>\n",
       "      <td>100.00</td>\n",
       "      <td>100.00</td>\n",
       "      <td>100.00</td>\n",
       "      <td>0.0</td>\n",
       "      <td>1971</td>\n",
       "    </tr>\n",
       "    <tr>\n",
       "      <th>1</th>\n",
       "      <td>1971-02-08</td>\n",
       "      <td>^IXIC</td>\n",
       "      <td>100.84</td>\n",
       "      <td>100.84</td>\n",
       "      <td>100.84</td>\n",
       "      <td>100.84</td>\n",
       "      <td>0.0</td>\n",
       "      <td>1971</td>\n",
       "    </tr>\n",
       "    <tr>\n",
       "      <th>2</th>\n",
       "      <td>1971-02-09</td>\n",
       "      <td>^IXIC</td>\n",
       "      <td>100.76</td>\n",
       "      <td>100.76</td>\n",
       "      <td>100.76</td>\n",
       "      <td>100.76</td>\n",
       "      <td>0.0</td>\n",
       "      <td>1971</td>\n",
       "    </tr>\n",
       "    <tr>\n",
       "      <th>3</th>\n",
       "      <td>1971-02-10</td>\n",
       "      <td>^IXIC</td>\n",
       "      <td>100.69</td>\n",
       "      <td>100.69</td>\n",
       "      <td>100.69</td>\n",
       "      <td>100.69</td>\n",
       "      <td>0.0</td>\n",
       "      <td>1971</td>\n",
       "    </tr>\n",
       "    <tr>\n",
       "      <th>4</th>\n",
       "      <td>1971-02-11</td>\n",
       "      <td>^IXIC</td>\n",
       "      <td>101.45</td>\n",
       "      <td>101.45</td>\n",
       "      <td>101.45</td>\n",
       "      <td>101.45</td>\n",
       "      <td>0.0</td>\n",
       "      <td>1971</td>\n",
       "    </tr>\n",
       "    <tr>\n",
       "      <th>...</th>\n",
       "      <td>...</td>\n",
       "      <td>...</td>\n",
       "      <td>...</td>\n",
       "      <td>...</td>\n",
       "      <td>...</td>\n",
       "      <td>...</td>\n",
       "      <td>...</td>\n",
       "      <td>...</td>\n",
       "    </tr>\n",
       "    <tr>\n",
       "      <th>41655</th>\n",
       "      <td>2019-08-23</td>\n",
       "      <td>MSFT</td>\n",
       "      <td>137.19</td>\n",
       "      <td>133.39</td>\n",
       "      <td>138.35</td>\n",
       "      <td>132.80</td>\n",
       "      <td>38515386.0</td>\n",
       "      <td>2019</td>\n",
       "    </tr>\n",
       "    <tr>\n",
       "      <th>41656</th>\n",
       "      <td>2019-08-23</td>\n",
       "      <td>AAPL</td>\n",
       "      <td>209.43</td>\n",
       "      <td>202.64</td>\n",
       "      <td>212.05</td>\n",
       "      <td>201.00</td>\n",
       "      <td>46882843.0</td>\n",
       "      <td>2019</td>\n",
       "    </tr>\n",
       "    <tr>\n",
       "      <th>41657</th>\n",
       "      <td>2019-08-23</td>\n",
       "      <td>GOOGL</td>\n",
       "      <td>1185.17</td>\n",
       "      <td>1153.58</td>\n",
       "      <td>1195.67</td>\n",
       "      <td>1150.00</td>\n",
       "      <td>1813141.0</td>\n",
       "      <td>2019</td>\n",
       "    </tr>\n",
       "    <tr>\n",
       "      <th>41658</th>\n",
       "      <td>2019-08-23</td>\n",
       "      <td>AMZN</td>\n",
       "      <td>1793.03</td>\n",
       "      <td>1749.62</td>\n",
       "      <td>1804.90</td>\n",
       "      <td>1745.23</td>\n",
       "      <td>5277898.0</td>\n",
       "      <td>2019</td>\n",
       "    </tr>\n",
       "    <tr>\n",
       "      <th>41659</th>\n",
       "      <td>2019-08-23</td>\n",
       "      <td>FB</td>\n",
       "      <td>180.84</td>\n",
       "      <td>177.75</td>\n",
       "      <td>183.13</td>\n",
       "      <td>176.66</td>\n",
       "      <td>17331221.0</td>\n",
       "      <td>2019</td>\n",
       "    </tr>\n",
       "  </tbody>\n",
       "</table>\n",
       "<p>41660 rows × 8 columns</p>\n",
       "</div>"
      ],
      "text/plain": [
       "            Date   name     open    close     high      low      volume  Year\n",
       "0     1971-02-05  ^IXIC   100.00   100.00   100.00   100.00         0.0  1971\n",
       "1     1971-02-08  ^IXIC   100.84   100.84   100.84   100.84         0.0  1971\n",
       "2     1971-02-09  ^IXIC   100.76   100.76   100.76   100.76         0.0  1971\n",
       "3     1971-02-10  ^IXIC   100.69   100.69   100.69   100.69         0.0  1971\n",
       "4     1971-02-11  ^IXIC   101.45   101.45   101.45   101.45         0.0  1971\n",
       "...          ...    ...      ...      ...      ...      ...         ...   ...\n",
       "41655 2019-08-23   MSFT   137.19   133.39   138.35   132.80  38515386.0  2019\n",
       "41656 2019-08-23   AAPL   209.43   202.64   212.05   201.00  46882843.0  2019\n",
       "41657 2019-08-23  GOOGL  1185.17  1153.58  1195.67  1150.00   1813141.0  2019\n",
       "41658 2019-08-23   AMZN  1793.03  1749.62  1804.90  1745.23   5277898.0  2019\n",
       "41659 2019-08-23     FB   180.84   177.75   183.13   176.66  17331221.0  2019\n",
       "\n",
       "[41660 rows x 8 columns]"
      ]
     },
     "execution_count": 16,
     "metadata": {},
     "output_type": "execute_result"
    }
   ],
   "source": [
    "##Since I want a view of the price fluctuation over the years- to get a broader view\n",
    "#EXAMPLE - df['Year'] = df['DateColumn'].dt.year\n",
    "#Add new column to only contain YYYY values from 'Date'\n",
    "topstocks['Year'] = topstocks['Date'].dt.year\n",
    "topstocks"
   ]
  },
  {
   "cell_type": "code",
   "execution_count": 17,
   "metadata": {},
   "outputs": [],
   "source": [
    "#Replace any incorrect values\n",
    "topstocks = topstocks.replace('^IXIC', 'IXIC')"
   ]
  },
  {
   "cell_type": "code",
   "execution_count": 18,
   "metadata": {},
   "outputs": [
    {
     "data": {
      "text/plain": [
       "Date      0\n",
       "name      0\n",
       "open      0\n",
       "close     0\n",
       "high      0\n",
       "low       0\n",
       "volume    0\n",
       "Year      0\n",
       "dtype: int64"
      ]
     },
     "execution_count": 18,
     "metadata": {},
     "output_type": "execute_result"
    }
   ],
   "source": [
    "##Check for null values\n",
    "topstocks.isnull().sum()"
   ]
  },
  {
   "cell_type": "markdown",
   "metadata": {},
   "source": [
    "### Data Visualisation"
   ]
  },
  {
   "cell_type": "code",
   "execution_count": 19,
   "metadata": {},
   "outputs": [
    {
     "data": {
      "text/html": [
       "<div>\n",
       "<style scoped>\n",
       "    .dataframe tbody tr th:only-of-type {\n",
       "        vertical-align: middle;\n",
       "    }\n",
       "\n",
       "    .dataframe tbody tr th {\n",
       "        vertical-align: top;\n",
       "    }\n",
       "\n",
       "    .dataframe thead th {\n",
       "        text-align: right;\n",
       "    }\n",
       "</style>\n",
       "<table border=\"1\" class=\"dataframe\">\n",
       "  <thead>\n",
       "    <tr style=\"text-align: right;\">\n",
       "      <th></th>\n",
       "      <th>Date</th>\n",
       "      <th>name</th>\n",
       "      <th>open</th>\n",
       "      <th>close</th>\n",
       "      <th>high</th>\n",
       "      <th>low</th>\n",
       "      <th>volume</th>\n",
       "      <th>Year</th>\n",
       "    </tr>\n",
       "  </thead>\n",
       "  <tbody>\n",
       "    <tr>\n",
       "      <th>13626</th>\n",
       "      <td>1997-05-15</td>\n",
       "      <td>AMZN</td>\n",
       "      <td>1.96</td>\n",
       "      <td>1.96</td>\n",
       "      <td>2.50</td>\n",
       "      <td>1.93</td>\n",
       "      <td>6006000.0</td>\n",
       "      <td>1997</td>\n",
       "    </tr>\n",
       "    <tr>\n",
       "      <th>14037</th>\n",
       "      <td>1997-10-10</td>\n",
       "      <td>AMZN</td>\n",
       "      <td>3.72</td>\n",
       "      <td>3.90</td>\n",
       "      <td>4.06</td>\n",
       "      <td>3.67</td>\n",
       "      <td>315600.0</td>\n",
       "      <td>1997</td>\n",
       "    </tr>\n",
       "    <tr>\n",
       "      <th>14041</th>\n",
       "      <td>1997-10-13</td>\n",
       "      <td>AMZN</td>\n",
       "      <td>3.98</td>\n",
       "      <td>4.00</td>\n",
       "      <td>4.04</td>\n",
       "      <td>3.93</td>\n",
       "      <td>67900.0</td>\n",
       "      <td>1997</td>\n",
       "    </tr>\n",
       "    <tr>\n",
       "      <th>14044</th>\n",
       "      <td>1997-10-14</td>\n",
       "      <td>AMZN</td>\n",
       "      <td>4.06</td>\n",
       "      <td>3.98</td>\n",
       "      <td>4.10</td>\n",
       "      <td>3.83</td>\n",
       "      <td>128900.0</td>\n",
       "      <td>1997</td>\n",
       "    </tr>\n",
       "    <tr>\n",
       "      <th>14049</th>\n",
       "      <td>1997-10-15</td>\n",
       "      <td>AMZN</td>\n",
       "      <td>3.97</td>\n",
       "      <td>3.92</td>\n",
       "      <td>3.97</td>\n",
       "      <td>3.77</td>\n",
       "      <td>196300.0</td>\n",
       "      <td>1997</td>\n",
       "    </tr>\n",
       "    <tr>\n",
       "      <th>...</th>\n",
       "      <td>...</td>\n",
       "      <td>...</td>\n",
       "      <td>...</td>\n",
       "      <td>...</td>\n",
       "      <td>...</td>\n",
       "      <td>...</td>\n",
       "      <td>...</td>\n",
       "      <td>...</td>\n",
       "    </tr>\n",
       "    <tr>\n",
       "      <th>41013</th>\n",
       "      <td>2019-03-22</td>\n",
       "      <td>AMZN</td>\n",
       "      <td>1810.17</td>\n",
       "      <td>1764.77</td>\n",
       "      <td>1818.98</td>\n",
       "      <td>1763.11</td>\n",
       "      <td>6362983.0</td>\n",
       "      <td>2019</td>\n",
       "    </tr>\n",
       "    <tr>\n",
       "      <th>41019</th>\n",
       "      <td>2019-03-25</td>\n",
       "      <td>AMZN</td>\n",
       "      <td>1757.79</td>\n",
       "      <td>1774.26</td>\n",
       "      <td>1782.68</td>\n",
       "      <td>1747.50</td>\n",
       "      <td>5103803.0</td>\n",
       "      <td>2019</td>\n",
       "    </tr>\n",
       "    <tr>\n",
       "      <th>41027</th>\n",
       "      <td>2019-03-26</td>\n",
       "      <td>AMZN</td>\n",
       "      <td>1793.00</td>\n",
       "      <td>1783.76</td>\n",
       "      <td>1805.77</td>\n",
       "      <td>1773.36</td>\n",
       "      <td>4865880.0</td>\n",
       "      <td>2019</td>\n",
       "    </tr>\n",
       "    <tr>\n",
       "      <th>41039</th>\n",
       "      <td>2019-03-28</td>\n",
       "      <td>AMZN</td>\n",
       "      <td>1770.00</td>\n",
       "      <td>1773.42</td>\n",
       "      <td>1777.93</td>\n",
       "      <td>1753.47</td>\n",
       "      <td>3042958.0</td>\n",
       "      <td>2019</td>\n",
       "    </tr>\n",
       "    <tr>\n",
       "      <th>41658</th>\n",
       "      <td>2019-08-23</td>\n",
       "      <td>AMZN</td>\n",
       "      <td>1793.03</td>\n",
       "      <td>1749.62</td>\n",
       "      <td>1804.90</td>\n",
       "      <td>1745.23</td>\n",
       "      <td>5277898.0</td>\n",
       "      <td>2019</td>\n",
       "    </tr>\n",
       "  </tbody>\n",
       "</table>\n",
       "<p>5607 rows × 8 columns</p>\n",
       "</div>"
      ],
      "text/plain": [
       "            Date  name     open    close     high      low     volume  Year\n",
       "13626 1997-05-15  AMZN     1.96     1.96     2.50     1.93  6006000.0  1997\n",
       "14037 1997-10-10  AMZN     3.72     3.90     4.06     3.67   315600.0  1997\n",
       "14041 1997-10-13  AMZN     3.98     4.00     4.04     3.93    67900.0  1997\n",
       "14044 1997-10-14  AMZN     4.06     3.98     4.10     3.83   128900.0  1997\n",
       "14049 1997-10-15  AMZN     3.97     3.92     3.97     3.77   196300.0  1997\n",
       "...          ...   ...      ...      ...      ...      ...        ...   ...\n",
       "41013 2019-03-22  AMZN  1810.17  1764.77  1818.98  1763.11  6362983.0  2019\n",
       "41019 2019-03-25  AMZN  1757.79  1774.26  1782.68  1747.50  5103803.0  2019\n",
       "41027 2019-03-26  AMZN  1793.00  1783.76  1805.77  1773.36  4865880.0  2019\n",
       "41039 2019-03-28  AMZN  1770.00  1773.42  1777.93  1753.47  3042958.0  2019\n",
       "41658 2019-08-23  AMZN  1793.03  1749.62  1804.90  1745.23  5277898.0  2019\n",
       "\n",
       "[5607 rows x 8 columns]"
      ]
     },
     "execution_count": 19,
     "metadata": {},
     "output_type": "execute_result"
    }
   ],
   "source": [
    "##Seperate the data by each stock\n",
    "#These variables will be used for future analysis\n",
    "nasdaq = topstocks.loc[topstocks['name'] == 'IXIC'].sort_values('Year')\n",
    "aapl = topstocks.loc[topstocks['name'] == 'AAPL'].sort_values('Year')\n",
    "msft = topstocks.loc[topstocks['name'] == 'MSFT'].sort_values('Year')\n",
    "amzn = topstocks.loc[topstocks['name'] == 'AMZN'].sort_values('Year')\n",
    "googl = topstocks.loc[topstocks['name'] == 'GOOGL'].sort_values('Year')\n",
    "fb = topstocks.loc[topstocks['name'] == 'FB'].sort_values('Year')\n",
    "\n",
    "amzn"
   ]
  },
  {
   "cell_type": "code",
   "execution_count": 20,
   "metadata": {},
   "outputs": [
    {
     "ename": "NameError",
     "evalue": "name 'fbDate' is not defined",
     "output_type": "error",
     "traceback": [
      "\u001b[1;31m---------------------------------------------------------------------------\u001b[0m",
      "\u001b[1;31mNameError\u001b[0m                                 Traceback (most recent call last)",
      "\u001b[1;32m<ipython-input-20-ddbfa4f77714>\u001b[0m in \u001b[0;36m<module>\u001b[1;34m\u001b[0m\n\u001b[0;32m     21\u001b[0m \u001b[0mfbPr\u001b[0m \u001b[1;33m=\u001b[0m \u001b[0mfb\u001b[0m\u001b[1;33m[\u001b[0m\u001b[1;34m'close'\u001b[0m\u001b[1;33m]\u001b[0m\u001b[1;33m\u001b[0m\u001b[1;33m\u001b[0m\u001b[0m\n\u001b[0;32m     22\u001b[0m \u001b[0mfbDa\u001b[0m \u001b[1;33m=\u001b[0m\u001b[0mfb\u001b[0m\u001b[1;33m[\u001b[0m\u001b[1;34m'Year'\u001b[0m\u001b[1;33m]\u001b[0m\u001b[1;33m\u001b[0m\u001b[1;33m\u001b[0m\u001b[0m\n\u001b[1;32m---> 23\u001b[1;33m \u001b[0mfbDate\u001b[0m\u001b[1;33m\u001b[0m\u001b[1;33m\u001b[0m\u001b[0m\n\u001b[0m",
      "\u001b[1;31mNameError\u001b[0m: name 'fbDate' is not defined"
     ]
    }
   ],
   "source": [
    "##Extract the close prices of each stock, sorted by date (ascending)\n",
    "##Extract the dates of each stock\n",
    "#I will use this data to visualise the price change since the introduction of each IPO\n",
    "\n",
    "nasdaqPr =nasdaq['close']\n",
    "nasdaqDa =nasdaq['Year']\n",
    "\n",
    "aaplPr = aapl['close']\n",
    "aaplDa =aapl['Year']\n",
    "\n",
    "msftPr = msft['close']\n",
    "msftDa = msft['Year']\n",
    "\n",
    "amznPr = amzn['close']\n",
    "amznDa = amzn['Year']\n",
    "\n",
    "googlPr = googl['close']\n",
    "googlDa =googl['Year']\n",
    "googlDate =googl['Date']\n",
    "\n",
    "fbPr = fb['close']\n",
    "fbDa =fb['Year']\n",
    "fbDate"
   ]
  },
  {
   "cell_type": "markdown",
   "metadata": {},
   "source": [
    "#### Price correlation of all five stocks - Anually\n",
    "We will be able to see the highest prices of each stock annually, tracking the progress and value of each security."
   ]
  },
  {
   "cell_type": "code",
   "execution_count": 21,
   "metadata": {},
   "outputs": [
    {
     "data": {
      "text/plain": [
       "<matplotlib.legend.Legend at 0x1ece75b7bb0>"
      ]
     },
     "execution_count": 21,
     "metadata": {},
     "output_type": "execute_result"
    },
    {
     "data": {
      "image/png": "[encoded data removed]",
      "text/plain": [
       "<Figure size 1080x720 with 1 Axes>"
      ]
     },
     "metadata": {
      "needs_background": "light"
     },
     "output_type": "display_data"
    }
   ],
   "source": [
    "##IXIC AAPL MSFT AMZN GOOGL FB\n",
    "#PrCh = Price Change \n",
    "\n",
    "mpy.figure(figsize=(15,10))\n",
    "  \n",
    "#Plot data\n",
    "mpy.plot(nasdaqDa, nasdaqPr, linewidth = 2, color= 'blue')\n",
    "mpy.plot(aaplDa, aaplPr, linewidth = 2, color= 'orange')\n",
    "mpy.plot(msftDa, msftPr, linewidth = 2, color= 'green')\n",
    "mpy.plot(amznDa, amznPr, linewidth = 2, color= 'red')\n",
    "mpy.plot(googlDa, googlPr, linewidth = 2, color= 'purple')\n",
    "mpy.plot(fbDa, fbPr, linewidth = 2, color= 'black')\n",
    "\n",
    "mpy.legend(['IXIC','AAPL','MSFT','AMZN','GOOGL','FB'], ncol=1, loc='upper left')\n"
   ]
  },
  {
   "cell_type": "code",
   "execution_count": 22,
   "metadata": {},
   "outputs": [
    {
     "data": {
      "text/plain": [
       "<matplotlib.legend.Legend at 0x1ece75ebe50>"
      ]
     },
     "execution_count": 22,
     "metadata": {},
     "output_type": "execute_result"
    },
    {
     "data": {
      "image/png": "[encoded data removed]",
      "text/plain": [
       "<Figure size 1080x720 with 1 Axes>"
      ]
     },
     "metadata": {
      "needs_background": "light"
     },
     "output_type": "display_data"
    }
   ],
   "source": [
    "##AAPLE AMZN MSFT GOOGL FB\n",
    "mpy.figure(figsize=(15,10))\n",
    "\n",
    "\n",
    "#Plot data\n",
    "mpy.plot(aaplDa, aaplPr, linewidth = 2, color= 'orange')\n",
    "mpy.plot(msftDa, msftPr, linewidth = 2, color= 'green')\n",
    "mpy.plot(amznDa, amznPr, linewidth = 2, color= 'red')\n",
    "mpy.plot(googlDa, googlPr, linewidth = 2, color= 'purple')\n",
    "mpy.plot(fbDa, fbPr, linewidth = 2, color= 'black')\n",
    "\n",
    "mpy.legend(['AAPL','MSFT','AMZN','GOOGL','FB'], ncol=1, loc='upper left')\n"
   ]
  },
  {
   "cell_type": "code",
   "execution_count": 23,
   "metadata": {},
   "outputs": [
    {
     "data": {
      "text/plain": [
       "<matplotlib.legend.Legend at 0x1ece75ebe80>"
      ]
     },
     "execution_count": 23,
     "metadata": {},
     "output_type": "execute_result"
    },
    {
     "data": {
      "image/png": "[encoded data removed]",
      "text/plain": [
       "<Figure size 1080x720 with 1 Axes>"
      ]
     },
     "metadata": {
      "needs_background": "light"
     },
     "output_type": "display_data"
    }
   ],
   "source": [
    "##AAPL MSFT FB \n",
    "\n",
    "mpy.figure(figsize=(15,10))\n",
    "\n",
    "#Plot Data\n",
    "mpy.plot(aaplDa, aaplPr, linewidth = 2, color= 'orange')\n",
    "mpy.plot(msftDa, msftPr, linewidth = 2, color= 'green')\n",
    "mpy.plot(fbDa, fbPr, linewidth = 2, color= 'black')\n",
    "\n",
    "mpy.legend(['APPL','MSFT','FB'], ncol=1, loc='upper left')"
   ]
  },
  {
   "cell_type": "markdown",
   "metadata": {},
   "source": [
    "The vertical lines represent the highest closing price and lowest closing price per annum. \n",
    "\n",
    "This provides both data regarding the volitily of each stock, presenting the highest closing and lowest closing prices per annum, showing the movement of each stock in detail. \n",
    "##### There are a few things that we can extract from the graphs above;\n",
    "- There is an obvious outlier bwteen the five stocks that we're looking at; IXIC is The most expensive stock to buy, valued around ~ 8005.34 in August of 2019. \n",
    "\n",
    "\n",
    "- The movements of MSFT and APPL are very tight-knit, constantly crossing one another (in terms of share price) every year. This is the result of fierce comeptition; iOS vs WindowsOS for example, both sides constantly innovate their products and consistently deliver quality products. This healthly competition is highlighted through thier stock movement.\n",
    "\n",
    "\n",
    "- All 6 securities have had a positive correlation, this is due to innovation unique to their industries and the market as a whole, and also by involving their products in the everday lives of the people (via IoT). For example, Amazon, they have become a household name for extremely fast and reliable deliveries for any product that you may want, aswell as delving into the entertainment market(gaming, TV and movies), resulting in their share prices rising.\n"
   ]
  },
  {
   "cell_type": "markdown",
   "metadata": {},
   "source": [
    "#### Prices fluctuation per Ticker - Bar\n",
    "The bar graph shows the closing price at the end of each year, not the highest/lowest closing price that may have been hit during the year. \n",
    "\n",
    "Some of the prices mentioned below are referenced before the annual closing price, please refer to the line graphs above instead."
   ]
  },
  {
   "cell_type": "code",
   "execution_count": 31,
   "metadata": {},
   "outputs": [
    {
     "data": {
      "text/plain": [
       "<matplotlib.legend.Legend at 0x1ec80f31e80>"
      ]
     },
     "execution_count": 31,
     "metadata": {},
     "output_type": "execute_result"
    },
    {
     "data": {
      "image/png": "[encoded data removed]",
      "text/plain": [
       "<Figure size 720x360 with 1 Axes>"
      ]
     },
     "metadata": {
      "needs_background": "light"
     },
     "output_type": "display_data"
    }
   ],
   "source": [
    "##Just IXIC\n",
    "mpy.figure(figsize=(10,5))\n",
    "\n",
    "#Plot data for IXIC\n",
    "mpy.bar(nasdaqDa, nasdaqPr, linewidth = 2, color= 'blue')\n",
    "\n",
    "mpy.legend(['IXIC'], ncol=1, loc='upper left')"
   ]
  },
  {
   "cell_type": "code",
   "execution_count": 25,
   "metadata": {},
   "outputs": [
    {
     "data": {
      "text/plain": [
       "<matplotlib.legend.Legend at 0x1ecee8b93d0>"
      ]
     },
     "execution_count": 25,
     "metadata": {},
     "output_type": "execute_result"
    },
    {
     "data": {
      "image/png": "[encoded data removed]",
      "text/plain": [
       "<Figure size 720x360 with 1 Axes>"
      ]
     },
     "metadata": {
      "needs_background": "light"
     },
     "output_type": "display_data"
    }
   ],
   "source": [
    "#Set Size\n",
    "mpy.figure(figsize=(10,5))\n",
    "\n",
    "#Plot Data for AAPL\n",
    "mpy.bar(aaplDa, aaplPr, linewidth = 2, color= 'orange')\n",
    "\n",
    "mpy.legend(['APPL'], ncol=1, loc='upper left')"
   ]
  },
  {
   "cell_type": "code",
   "execution_count": 26,
   "metadata": {},
   "outputs": [
    {
     "data": {
      "text/plain": [
       "<matplotlib.legend.Legend at 0x1ecefbd3dc0>"
      ]
     },
     "execution_count": 26,
     "metadata": {},
     "output_type": "execute_result"
    },
    {
     "data": {
      "image/png": "[encoded data removed]",
      "text/plain": [
       "<Figure size 720x360 with 1 Axes>"
      ]
     },
     "metadata": {
      "needs_background": "light"
     },
     "output_type": "display_data"
    }
   ],
   "source": [
    "#Set Size\n",
    "mpy.figure(figsize=(10,5))\n",
    "\n",
    "#Plot data for MSFT\n",
    "mpy.bar(msftDa, msftPr, linewidth = 2, color= 'green')\n",
    "\n",
    "mpy.legend(['MSFT'], ncol=1, loc='upper left')"
   ]
  },
  {
   "cell_type": "code",
   "execution_count": 27,
   "metadata": {},
   "outputs": [
    {
     "data": {
      "text/plain": [
       "<matplotlib.legend.Legend at 0x1ecf5ee1940>"
      ]
     },
     "execution_count": 27,
     "metadata": {},
     "output_type": "execute_result"
    },
    {
     "data": {
      "image/png": "[encoded data removed]",
      "text/plain": [
       "<Figure size 720x360 with 1 Axes>"
      ]
     },
     "metadata": {
      "needs_background": "light"
     },
     "output_type": "display_data"
    }
   ],
   "source": [
    "#Set Size\n",
    "mpy.figure(figsize=(10,5))\n",
    "\n",
    "#Plot data for GOOGL\n",
    "mpy.bar(amznDa, amznPr, linewidth = 2, color= 'red')\n",
    "\n",
    "mpy.legend(['AMZN'], ncol=1, loc='upper left')"
   ]
  },
  {
   "cell_type": "markdown",
   "metadata": {},
   "source": [
    "We can extract some notable information from the graphs above.\n",
    "\n",
    "All of the companies above were affected extremely negatively by the 2001 - 2002 DotCom bubble. In the years prior to bubble bursting, the whole market was rallying. The surge in bullish momentum enticed investors, both experience and amateur, to cash in - more cash flow within the stock market made the prices rally moreso. \n",
    "- the Nasdaq, for example, peaked at 5,131.7 in March 2000, dropping to 1,093.7 in September 2002 (a ~78% decrease). It took 13 years until 2015 for the Nasdaq to touch the mid 2000 price of 5,048.\n",
    "\n",
    "\n",
    "- Apple was a much smaller company during the time of the DotCom bubble, price at 1.34 at the peak of the bubble, Apple gained alot of momentum during this period, however, growing at a rate of 340.68% from April 1999 to March 2000. Dropping to 0.26 in July 2002, though this mayn't seem like a huge amount of money, that was a drop of 80.9%. \n",
    "\n",
    "\n",
    "- Microsoft grew at a steadier pace compared to Apple, growing 51.4% from April 1999 to January 2000, though the price didn't surge like it did with Apple, 50% in the span of 9 months is extremely impressive. Dropping to 20.74 in July 2002, a 65.4% decline from the peak price of 60.07 at the peak of the bubble. \n",
    "\n",
    "\n",
    "- Amazon also grew extremely quickly during this period, rising from 40.75 in August 1999 to 113.21 in December 1999 - a growth of 177.81%. The burst of the bubble seemed to effect Amazon the worst, dropping to 5.43 in July 2002 - a rapid decline of 95.2%.\n",
    "\n",
    "The growth in use of the internet for business & domestic used resulted in the majority of the market rallying very quickly (unnatural growth - not following growth patterns and movements from previous years). All companies that surged during this period fell just as quick as they grew, taking multiple years to reach the price they reached at the peak of the bubble."
   ]
  },
  {
   "cell_type": "code",
   "execution_count": 28,
   "metadata": {},
   "outputs": [
    {
     "data": {
      "text/plain": [
       "<matplotlib.legend.Legend at 0x1ec8494ce50>"
      ]
     },
     "execution_count": 28,
     "metadata": {},
     "output_type": "execute_result"
    },
    {
     "data": {
      "image/png": "[encoded data removed]",
      "text/plain": [
       "<Figure size 720x360 with 1 Axes>"
      ]
     },
     "metadata": {
      "needs_background": "light"
     },
     "output_type": "display_data"
    }
   ],
   "source": [
    "#Set Size\n",
    "mpy.figure(figsize=(10,5))\n",
    "\n",
    "#Plot data for FB\n",
    "mpy.bar(googlDa, googlPr, linewidth = 2, color= 'purple')\n",
    "\n",
    "mpy.legend(['GOOGL'], ncol=1, loc='upper left')"
   ]
  },
  {
   "cell_type": "code",
   "execution_count": 29,
   "metadata": {},
   "outputs": [
    {
     "data": {
      "text/plain": [
       "[<matplotlib.lines.Line2D at 0x1ec81c3adf0>]"
      ]
     },
     "execution_count": 29,
     "metadata": {},
     "output_type": "execute_result"
    },
    {
     "data": {
      "image/png": "[encoded data removed]",
      "text/plain": [
       "<Figure size 432x288 with 1 Axes>"
      ]
     },
     "metadata": {
      "needs_background": "light"
     },
     "output_type": "display_data"
    }
   ],
   "source": [
    "#mpy.plot(nasdaqDa, nasdaqPr, linewidth = 2, color= 'blue')\n",
    "#mpy.plot(aaplDa, aaplPr, linewidth = 2, color= 'orange')\n",
    "#mpy.plot(msftDa, msftPr, linewidth = 2, color= 'green')\n",
    "#mpy.plot(amznDa, amznPr, linewidth = 2, color= 'red')\n",
    "mpy.plot(googlDa, googlPr, linewidth = 2, color= 'purple')\n",
    "#mpy.plot(fbDa, fbPr, linewidth = 2, color= 'black')\n"
   ]
  },
  {
   "cell_type": "code",
   "execution_count": 30,
   "metadata": {},
   "outputs": [
    {
     "data": {
      "text/plain": [
       "<matplotlib.legend.Legend at 0x1ec808c0a30>"
      ]
     },
     "execution_count": 30,
     "metadata": {},
     "output_type": "execute_result"
    },
    {
     "data": {
      "image/png": "[encoded data removed]",
      "text/plain": [
       "<Figure size 720x360 with 1 Axes>"
      ]
     },
     "metadata": {
      "needs_background": "light"
     },
     "output_type": "display_data"
    }
   ],
   "source": [
    "#Set Size\n",
    "mpy.figure(figsize=(10,5))\n",
    "\n",
    "#Plot data for FB\n",
    "mpy.bar(fbDa, fbPr, linewidth = 2, color= 'black')\n",
    "\n",
    "mpy.legend(['FB'], ncol=1, loc='upper left')"
   ]
  },
  {
   "cell_type": "markdown",
   "metadata": {},
   "source": [
    "Google and Facebook had their IPOs released in 2004 and 2012 respectively, so the damages caused by the DotCom bubble were limited. \n",
    "\n",
    "However, unlike Facebook, Google was effected by the 2008 financial crisis. Peaking at 374.9 during November 2007, and dropping to 124.5 in December 2008, a decline of 66.77%, as a result of the events at the time. "
   ]
  }
 ],
 "metadata": {
  "kernelspec": {
   "display_name": "Python 3",
   "language": "python",
   "name": "python3"
  },
  "language_info": {
   "codemirror_mode": {
    "name": "ipython",
    "version": 3
   },
   "file_extension": ".py",
   "mimetype": "text/x-python",
   "name": "python",
   "nbconvert_exporter": "python",
   "pygments_lexer": "ipython3",
   "version": "3.8.3"
  }
 },
 "nbformat": 4,
 "nbformat_minor": 4
}
